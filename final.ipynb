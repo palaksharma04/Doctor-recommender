{
 "cells": [
  {
   "cell_type": "code",
   "execution_count": 35,
   "id": "41c2c55d",
   "metadata": {},
   "outputs": [],
   "source": [
    "import pandas as pd \n",
    "import numpy as np \n",
    "import matplotlib.pyplot as plt\n",
    "import tkinter as tk\n",
    "import warnings\n",
    "from tkinter import messagebox\n",
    "import seaborn as sns\n",
    "from sklearn.model_selection import train_test_split\n",
    "from sklearn.preprocessing import LabelEncoder\n",
    "from sklearn.ensemble import RandomForestClassifier\n",
    "from sklearn.metrics import accuracy_score\n",
    "warnings.filterwarnings(\"ignore\")\n",
    "from sklearn.tree import DecisionTreeClassifier\n",
    "import tkinter as tk\n",
    "from tkinter import messagebox\n",
    "from datetime import datetime"
   ]
  },
  {
   "cell_type": "markdown",
   "id": "2a7782a2",
   "metadata": {},
   "source": [
    "# GUI to take patient's information"
   ]
  },
  {
   "cell_type": "code",
   "execution_count": 36,
   "id": "904b0fda",
   "metadata": {},
   "outputs": [],
   "source": [
    "symptoms = []\n",
    "def submit():\n",
    "    current_time = datetime.now()\n",
    "    age = age_entry.get()\n",
    "    gender = gender_var.get()\n",
    "    cholesterol = cholesterol_var.get()\n",
    "    blood_pressure = blood_pressure_var.get()\n",
    "    city = city_entry.get()  \n",
    "    \n",
    "    arr=[]\n",
    "    if fever_var.get():\n",
    "        symptoms.append(1)\n",
    "        arr.append(\"Fever\")\n",
    "    else:\n",
    "        symptoms.append(0)\n",
    "    if cough_var.get():\n",
    "        arr.append(\"cough\")\n",
    "        symptoms.append(1)\n",
    "    else:\n",
    "        symptoms.append(0)\n",
    "    if fatigue_var.get():\n",
    "        arr.append(\"fatigue\")\n",
    "        symptoms.append(1)\n",
    "    else:\n",
    "        symptoms.append(0)\n",
    "    if difficulty_breathing_var.get():\n",
    "        arr.append(\"difficulty breathing\")\n",
    "        symptoms.append(1)\n",
    "    else:\n",
    "        symptoms.append(0)\n",
    "    symptoms.extend([int(age), gender, cholesterol, blood_pressure, city])  # Add city to the list of symptoms\n",
    "    output_list = [\n",
    "        f\"Age: {age}\",\n",
    "        f\"Gender: {gender}\",\n",
    "        f\"Cholesterol Level: {cholesterol}\",\n",
    "        f\"Blood Pressure: {blood_pressure}\",\n",
    "        f\"City: {city}\",\n",
    "        \"Symptoms: \" + \", \".join(arr)\n",
    "    ]\n",
    "    \n",
    "    messagebox.showinfo(\"Submission\", \"\\n\".join(output_list))\n",
    "    root.destroy()\n",
    "    \n",
    "root = tk.Tk()\n",
    "root.title(\"Patient's Information\")\n",
    "\n",
    "window_width = 500\n",
    "window_height = 450  \n",
    "screen_width = root.winfo_screenwidth()\n",
    "screen_height = root.winfo_screenheight()\n",
    "x_position = (screen_width - window_width) // 2\n",
    "y_position = (screen_height - window_height) // 2\n",
    "\n",
    "root.geometry(f\"{window_width}x{window_height}+{x_position}+{y_position}\")\n",
    "\n",
    "fever_var = tk.BooleanVar()\n",
    "cough_var = tk.BooleanVar()\n",
    "fatigue_var = tk.BooleanVar()\n",
    "difficulty_breathing_var = tk.BooleanVar()\n",
    "gender_var = tk.StringVar()\n",
    "cholesterol_var = tk.StringVar()\n",
    "blood_pressure_var = tk.StringVar()\n",
    "\n",
    "tk.Label(root, text=\"Age:\", font=(\"Helvetica\", 12)).grid(row=0, column=0, sticky=\"w\", padx=10, pady=5)\n",
    "tk.Label(root, text=\"Gender:\", font=(\"Helvetica\", 12)).grid(row=1, column=0, sticky=\"w\", padx=10, pady=5)\n",
    "tk.Label(root, text=\"Blood Cholesterol Level:\", font=(\"Helvetica\", 12)).grid(row=2, column=0, sticky=\"w\", padx=10, pady=5)\n",
    "tk.Label(root, text=\"Blood Pressure:\", font=(\"Helvetica\", 12)).grid(row=3, column=0, sticky=\"w\", padx=10, pady=5)\n",
    "tk.Label(root, text=\"City:\", font=(\"Helvetica\", 12)).grid(row=4, column=0, sticky=\"w\", padx=10, pady=5)  # Added label for city\n",
    "tk.Label(root, text=\"Symptoms:\", font=(\"Helvetica\", 12)).grid(row=5, column=0, sticky=\"w\", padx=10, pady=5)  # Adjusted row number\n",
    "\n",
    "age_entry = tk.Entry(root, font=(\"Helvetica\", 12))\n",
    "age_entry.grid(row=0, column=1, pady=5)\n",
    "\n",
    "tk.Radiobutton(root, text=\"Male\", variable=gender_var, value=\"Male\", font=(\"Helvetica\", 12)).grid(row=1, column=1, sticky=\"w\", pady=5)\n",
    "tk.Radiobutton(root, text=\"Female\", variable=gender_var, value=\"Female\", font=(\"Helvetica\", 12)).grid(row=1, column=1, sticky=\"e\", pady=5)\n",
    "\n",
    "tk.Radiobutton(root, text=\"Low\", variable=cholesterol_var, value=\"Low\", font=(\"Helvetica\", 12)).grid(row=2, column=1, sticky=\"w\", pady=5)\n",
    "tk.Radiobutton(root, text=\"Normal\", variable=cholesterol_var, value=\"Normal\", font=(\"Helvetica\", 12)).grid(row=2, column=1, pady=5)\n",
    "tk.Radiobutton(root, text=\"High\", variable=cholesterol_var, value=\"High\", font=(\"Helvetica\", 12)).grid(row=2, column=1, sticky=\"e\", pady=5)\n",
    "\n",
    "tk.Radiobutton(root, text=\"Low\", variable=blood_pressure_var, value=\"Low\", font=(\"Helvetica\", 12)).grid(row=3, column=1, sticky=\"w\", pady=5)\n",
    "tk.Radiobutton(root, text=\"Normal\", variable=blood_pressure_var, value=\"Normal\", font=(\"Helvetica\", 12)).grid(row=3, column=1, pady=5)\n",
    "tk.Radiobutton(root, text=\"High\", variable=blood_pressure_var, value=\"High\", font=(\"Helvetica\", 12)).grid(row=3, column=1, sticky=\"e\", pady=5)\n",
    "\n",
    "city_entry = tk.Entry(root, font=(\"Helvetica\", 12))\n",
    "city_entry.grid(row=4, column=1, pady=5)  \n",
    "\n",
    "tk.Checkbutton(root, text=\"Fever\", variable=fever_var, font=(\"Helvetica\", 12)).grid(row=5, column=1, sticky=\"w\", pady=5)  # Adjusted row number\n",
    "tk.Checkbutton(root, text=\"Cough\", variable=cough_var, font=(\"Helvetica\", 12)).grid(row=6, column=1, sticky=\"w\", pady=5)  # Adjusted row number\n",
    "tk.Checkbutton(root, text=\"Fatigue\", variable=fatigue_var, font=(\"Helvetica\", 12)).grid(row=7, column=1, sticky=\"w\", pady=5)  # Adjusted row number\n",
    "tk.Checkbutton(root, text=\"Difficulty Breathing\", variable=difficulty_breathing_var, font=(\"Helvetica\", 12)).grid(row=8, column=1, sticky=\"w\", pady=5)  # Adjusted row number\n",
    "\n",
    "submit_button = tk.Button(root, text=\"Submit\", command=submit, font=(\"Helvetica\", 12), bg=\"#4CAF50\", fg=\"white\")\n",
    "submit_button.grid(row=9, columnspan=2, pady=10)  \n",
    "\n",
    "root.mainloop()\n"
   ]
  },
  {
   "cell_type": "code",
   "execution_count": 37,
   "id": "48ece57c",
   "metadata": {},
   "outputs": [],
   "source": [
    "patient_city = symptoms[-1]\n",
    "symptoms=symptoms[:-1]"
   ]
  },
  {
   "cell_type": "markdown",
   "id": "68c01923",
   "metadata": {},
   "source": [
    "# dictionary that map predicted disease to specialized field"
   ]
  },
  {
   "cell_type": "code",
   "execution_count": 38,
   "id": "10266339",
   "metadata": {},
   "outputs": [],
   "source": [
    "medical_specialties = {\n",
    "    'Infectious Diseases': ['Influenza', 'Common Cold', 'Gastroenteritis', 'Dengue Fever', 'Hepatitis', 'Malaria', 'Tuberculosis', 'Ebola Virus', 'HIV/AIDS', 'Measles', 'Pneumonia', 'Typhoid Fever', 'Cholera', 'Rabies', 'Zika Virus', 'Pneumocystis Pneumonia (PCP)', 'Lyme Disease'],\n",
    "    'Endocrinology': ['Hyperthyroidism', 'Diabetes', 'Hypothyroidism', 'Hyperglycemia', 'Hypoglycemia'],\n",
    "    'Allergy and Immunology': ['Allergic Rhinitis'],\n",
    "    'Neurology': ['Migraine', 'Epilepsy', 'Stroke', \"Parkinson's Disease\", \"Alzheimer's Disease\", 'Multiple Sclerosis'],\n",
    "    'Cardiology': ['Hypertensive Heart Disease', 'Myocardial Infarction (Heart Attack)', 'Coronary Artery Disease'],\n",
    "    'Pulmonology': ['Asthma', 'Bronchitis', 'Chronic Obstructive Pulmonary Disease'],\n",
    "    'Gastroenterology': ['Ulcerative Colitis', 'Pancreatitis', \"Crohn's Disease\", 'Liver Cancer', 'Liver Disease', 'Colorectal Cancer', 'Esophageal Cancer'],\n",
    "    'Rheumatology': ['Rheumatoid Arthritis'],\n",
    "    'Oncology': ['Kidney Cancer', 'Bladder Cancer', 'Prostate Cancer', 'Ovarian Cancer', 'Pancreatic Cancer', 'Lung Cancer', 'Breast Cancer', 'Colorectal Cancer', 'Thyroid Cancer', 'Melanoma', 'Brain Tumor'],\n",
    "    'Nephrology': ['Kidney Disease', 'Chronic Kidney Disease'],\n",
    "    'Urology': ['Urinary Tract Infection'],\n",
    "    'Dermatology': ['Eczema', 'Psoriasis', 'Acne'],\n",
    "    'Psychiatry/Psychology': ['Anxiety Disorders', 'Depression', 'Bipolar Disorder', 'Obsessive-Compulsive Disorder', 'Schizophrenia', 'Eating Disorders (Anorexia, Bulimia, etc.)', 'Autism Spectrum Disorder (ASD)', 'Tourette Syndrome', 'ADHD'],\n",
    "    'Ophthalmology': ['Glaucoma', 'Cataracts'],\n",
    "    'Gynecology/Obstetrics': ['Endometriosis', 'Polycystic Ovary Syndrome (PCOS)'],\n",
    "    'Orthopedics': ['Muscular Dystrophy', 'Osteoporosis', 'Osteoarthritis', 'Scoliosis', 'Osteomyelitis'],\n",
    "    'Hematology': ['Hemophilia', 'Anemia', 'Sickle Cell Anemia', 'Lymphoma'],\n",
    "    'Andrology': ['Testicular Cancer'],\n",
    "    'Gynecological Oncology': ['Ovarian Cancer'],\n",
    "    'Gastrointestinal Surgery': ['Appendicitis', 'Cholecystitis', 'Diverticulitis'],\n",
    "    'ENT Specialist': ['Sinusitis', 'Tonsillitis', 'Otitis Media (Ear Infection)'],\n",
    "    'General Practitioner/Family Medicine Physician': ['For initial evaluation and referral to specialists as needed.'],\n",
    "    'Acupuncturist': ['Acupuncture'],\n",
    "    'Physiatrist': ['Physical Medicine and Rehabilitation'],\n",
    "    'Chiropractor': ['Chiropractic Care'],\n",
    "    'Pain Management Specialist': ['Pain Management'],\n",
    "    'Allergist': ['Allergy Testing', 'Immunotherapy'],\n",
    "    'Dermatologist': ['Skin Conditions Diagnosis and Treatment'],\n",
    "    'Pediatric Dermatologist': ['Pediatric Skin Conditions Diagnosis and Treatment'],\n",
    "    'Rheumatologist': ['Rheumatologic Conditions Diagnosis and Treatment'],\n",
    "    'Physician Assistant': ['Primary Care Services', 'Assisting Physicians'],\n",
    "    'Family Nurse Practitioner': ['Primary Care Services', 'Family Health'],\n",
    "    'Family Physician': ['Primary Care Services', 'Family Health'],\n",
    "    'Internist': ['Internal Medicine Services'],\n",
    "    'Surgeon': ['Surgical Procedures'],\n",
    "    'Ear, Nose & Throat Doctor': ['ENT Conditions Diagnosis and Treatment'],\n",
    "    'Pulmonologist': ['Respiratory Conditions Diagnosis and Treatment'],\n",
    "    'Adult Nurse Practitioner': ['Primary Care Services', 'Adult Health'],\n",
    "    'Nurse Practitioner': ['Primary Care Services'],\n",
    "    'Facial Plastic & Reconstructive Surgeon': ['Facial Plastic Surgery', 'Reconstructive Surgery'],\n",
    "    'Sinus Surgeon / Rhinologist': ['Sinus Conditions Diagnosis and Treatment'],\n",
    "    'Primary Care Doctor': ['Primary Care Services'],\n",
    "    'Addiction Specialist': ['Substance Use Disorder Treatment'],\n",
    "    'Audiologist': ['Hearing Testing', 'Hearing Aid Fitting'],\n",
    "    'Pediatric Otolaryngologist': ['Pediatric ENT Conditions Diagnosis and Treatment'],\n",
    "    'Infectious Disease Specialist': ['Infectious Disease Diagnosis and Treatment'],\n",
    "    'Urgent Care Specialist': ['Urgent Care Services'],\n",
    "    'Head & Neck Surgeon': ['Head and Neck Conditions Diagnosis and Treatment'],\n",
    "    'Pediatrician': ['Pediatric Care Services'],\n",
    "    'Cardiologist': ['Heart Conditions Diagnosis and Treatment'],\n",
    "    'Interventional Cardiologist': ['Interventional Cardiology Procedures'],\n",
    "    'Pediatric Cardiologist': ['Pediatric Heart Conditions Diagnosis and Treatment'],\n",
    "    'Nephrologist': ['Kidney Conditions Diagnosis and Treatment'],\n",
    "    'Dentist': ['Dental Care Services'],\n",
    "    'Dietitian': ['Nutritional Counseling'],\n",
    "    'Psychiatrist': ['Psychiatric Evaluation', 'Medication Management'],\n",
    "    'Nutritionist': ['Nutritional Counseling'],\n",
    "    'Endocrinologist': ['Endocrine Conditions Diagnosis and Treatment'],\n",
    "    'Family Psychiatric & Mental Health Nurse Practitioner': ['Mental Health Services', 'Family Psychiatric Care'],\n",
    "    'Bariatric Surgeon': ['Bariatric Surgery'],\n",
    "    'Child and Adolescent Psychiatrist': ['Child and Adolescent Mental Health Services'],\n",
    "    'Gastroenterologist': ['Gastrointestinal Conditions Diagnosis and Treatment'],\n",
    "    'OB-GYN': ['Obstetric Care', 'Gynecological Care'],\n",
    "    'Neurologist': ['Neurological Conditions Diagnosis and Treatment'],\n",
    "    'Psychosomatic Medicine Specialist': ['Psychosomatic Medicine'],\n",
    "    'Forensic Psychiatrist': ['Forensic Psychiatry'],\n",
    "    'Neuro-Otologist': ['Neuro-Otology Services'],\n",
    "    'Emergency Medicine Physician': ['Emergency Medical Care'],\n",
    "    'Pediatric Emergency Medicine Specialist': ['Pediatric Emergency Medical Care'],\n",
    "    'Nuclear Medicine Specialist': ['Nuclear Medicine Procedures'],\n",
    "    'Endodontist': ['Endodontic Treatment'],\n",
    "    'Periodontist': ['Periodontal Treatment'],\n",
    "    'Prosthodontist': ['Prosthodontic Treatment'],\n",
    "    'Pediatric Dentist': ['Pediatric Dental Care'],\n",
    "    'Optometrist': ['Vision Testing', 'Eyewear Prescription'],\n",
    "    'Cornea & External Diseases Specialist': ['Cornea and External Eye Diseases Diagnosis and Treatment'],\n",
    "    'Refractive Surgeon': ['Refractive Surgery'],\n",
    "    'Oculoplastic Surgeon': ['Oculoplastic Surgery'],\n",
    "    'Pediatric / Strabismus Eye Doctor': ['Pediatric Eye Conditions Diagnosis and Treatment'],\n",
    "    'Retina Specialist (Medical)': ['Retinal Conditions Diagnosis and Treatment'],\n",
    "    'Neuro-Ophthalmologist': ['Neuro-Ophthalmology Services'],\n",
    "    'Glaucoma Specialist': ['Glaucoma Diagnosis and Treatment'],\n",
    "    'Adult Psychiatric & Mental Health Nurse Practitioner': ['Adult Mental Health Services'],\n",
    "    \"Women's Health Nurse Practitioner\": [\"Women's Health Services\"],\n",
    "    'Hand Surgeon': ['Hand Surgery'],\n",
    "    'Orthopedic Surgeon': ['Orthopedic Surgery'],\n",
    "    'Spine Specialist': ['Spine Conditions Diagnosis and Treatment'],\n",
    "    'Occupational Therapist': ['Occupational Therapy'],\n",
    "    'Physical Therapist': ['Physical Therapy'],\n",
    "    'Sports Medicine Specialist': ['Sports Medicine'],\n",
    "    'Hematologist': ['Blood Disorders Diagnosis and Treatment'],\n",
    "    'Oncologist': ['Cancer Diagnosis and Treatment'],\n",
    "    'Diagnostic Radiologist': ['Diagnostic Imaging Services'],\n",
    "    'Pediatric Nurse Practitioner': ['Pediatric Care Services'],\n",
    "    'Psychologist': ['Psychological Counseling', 'Psychotherapy'],\n",
    "    'Reproductive Endocrinologist': ['Reproductive Endocrinology'],\n",
    "    'Gynecologist': ['Gynecological Care'],\n",
    "    'Urological Surgeon': ['Urological Surgery'],\n",
    "    'Urologist': ['Urological Conditions Diagnosis and Treatment'],\n",
    "    'Neurosurgeon': ['Neurosurgery'],\n",
    "    'Sleep Medicine Specialist': ['Sleep Disorders Diagnosis and Treatment'],\n",
    "    'Midwife': ['Midwifery Services'],\n",
    "    'Radiation Oncologist': ['Radiation Oncology'],\n",
    "    'Oral Surgeon': ['Oral Surgery'],\n",
    "    'Orthodontist': ['Orthodontic Treatment'],\n",
    "    'Pediatric Sports Medicine Specialist': ['Pediatric Sports Medicine'],\n",
    "    'Geriatrician': ['Geriatric Care'],\n",
    "    'Plastic Surgeon': ['Plastic Surgery'],\n",
    "    'Laryngologist': ['Laryngology Services'],\n",
    "    'Podiatrist': ['Podiatric Care'],\n",
    "    'Foot & Ankle Specialist': ['Foot and Ankle Conditions Diagnosis and Treatment'],\n",
    "    'Psychotherapist': ['Psychotherapy'],\n",
    "    'Pulmonary Diseases and Critical Care Medicine Specialist': ['Pulmonary Diseases Diagnosis and Treatment', 'Critical Care Medicine'],\n",
    "    'Pediatric Orthopedic Surgeon': ['Pediatric Orthopedic Surgery'],\n",
    "    'Hand & Microsurgery Specialist': ['Hand and Microsurgery'],\n",
    "    'Hip and Knee Surgeon': ['Hip and Knee Surgery'],\n",
    "    'Anesthesiologist': ['Anesthesia Services'],\n",
    "    'Radiologist': ['Radiological Interpretation'],\n",
    "    'Shoulder & Elbow Surgeon': ['Shoulder and Elbow Surgery'],\n",
    "    'Clinical Neurophysiologist': ['Clinical Neurophysiology Services'],\n",
    "    'Colorectal Surgeon': ['Colorectal Surgery'],\n",
    "    'Vascular Surgeon': ['Vascular Surgery'],\n",
    "    'Travel Medicine Specialist': ['Travel Medicine Services']\n",
    "}\n"
   ]
  },
  {
   "cell_type": "code",
   "execution_count": 39,
   "id": "408fe24f",
   "metadata": {},
   "outputs": [],
   "source": [
    "data= pd.read_csv(\"data.csv\")"
   ]
  },
  {
   "cell_type": "code",
   "execution_count": 40,
   "id": "f3643f15",
   "metadata": {},
   "outputs": [
    {
     "data": {
      "text/html": [
       "<div>\n",
       "<style scoped>\n",
       "    .dataframe tbody tr th:only-of-type {\n",
       "        vertical-align: middle;\n",
       "    }\n",
       "\n",
       "    .dataframe tbody tr th {\n",
       "        vertical-align: top;\n",
       "    }\n",
       "\n",
       "    .dataframe thead th {\n",
       "        text-align: right;\n",
       "    }\n",
       "</style>\n",
       "<table border=\"1\" class=\"dataframe\">\n",
       "  <thead>\n",
       "    <tr style=\"text-align: right;\">\n",
       "      <th></th>\n",
       "      <th>Fever</th>\n",
       "      <th>Cough</th>\n",
       "      <th>Fatigue</th>\n",
       "      <th>Difficulty Breathing</th>\n",
       "      <th>Age</th>\n",
       "      <th>Gender</th>\n",
       "      <th>Blood Pressure</th>\n",
       "      <th>Cholesterol Level</th>\n",
       "      <th>Outcome Variable</th>\n",
       "      <th>Disease</th>\n",
       "    </tr>\n",
       "  </thead>\n",
       "  <tbody>\n",
       "    <tr>\n",
       "      <th>0</th>\n",
       "      <td>Yes</td>\n",
       "      <td>No</td>\n",
       "      <td>Yes</td>\n",
       "      <td>Yes</td>\n",
       "      <td>19</td>\n",
       "      <td>Female</td>\n",
       "      <td>Low</td>\n",
       "      <td>Normal</td>\n",
       "      <td>Positive</td>\n",
       "      <td>Influenza</td>\n",
       "    </tr>\n",
       "    <tr>\n",
       "      <th>1</th>\n",
       "      <td>No</td>\n",
       "      <td>Yes</td>\n",
       "      <td>Yes</td>\n",
       "      <td>No</td>\n",
       "      <td>25</td>\n",
       "      <td>Female</td>\n",
       "      <td>Normal</td>\n",
       "      <td>Normal</td>\n",
       "      <td>Negative</td>\n",
       "      <td>Common Cold</td>\n",
       "    </tr>\n",
       "    <tr>\n",
       "      <th>2</th>\n",
       "      <td>No</td>\n",
       "      <td>Yes</td>\n",
       "      <td>Yes</td>\n",
       "      <td>No</td>\n",
       "      <td>25</td>\n",
       "      <td>Female</td>\n",
       "      <td>Normal</td>\n",
       "      <td>Normal</td>\n",
       "      <td>Negative</td>\n",
       "      <td>Eczema</td>\n",
       "    </tr>\n",
       "    <tr>\n",
       "      <th>3</th>\n",
       "      <td>Yes</td>\n",
       "      <td>Yes</td>\n",
       "      <td>No</td>\n",
       "      <td>Yes</td>\n",
       "      <td>25</td>\n",
       "      <td>Male</td>\n",
       "      <td>Normal</td>\n",
       "      <td>Normal</td>\n",
       "      <td>Positive</td>\n",
       "      <td>Asthma</td>\n",
       "    </tr>\n",
       "    <tr>\n",
       "      <th>4</th>\n",
       "      <td>Yes</td>\n",
       "      <td>Yes</td>\n",
       "      <td>No</td>\n",
       "      <td>Yes</td>\n",
       "      <td>25</td>\n",
       "      <td>Male</td>\n",
       "      <td>Normal</td>\n",
       "      <td>Normal</td>\n",
       "      <td>Positive</td>\n",
       "      <td>Asthma</td>\n",
       "    </tr>\n",
       "    <tr>\n",
       "      <th>...</th>\n",
       "      <td>...</td>\n",
       "      <td>...</td>\n",
       "      <td>...</td>\n",
       "      <td>...</td>\n",
       "      <td>...</td>\n",
       "      <td>...</td>\n",
       "      <td>...</td>\n",
       "      <td>...</td>\n",
       "      <td>...</td>\n",
       "      <td>...</td>\n",
       "    </tr>\n",
       "    <tr>\n",
       "      <th>344</th>\n",
       "      <td>Yes</td>\n",
       "      <td>No</td>\n",
       "      <td>Yes</td>\n",
       "      <td>No</td>\n",
       "      <td>80</td>\n",
       "      <td>Female</td>\n",
       "      <td>High</td>\n",
       "      <td>High</td>\n",
       "      <td>Positive</td>\n",
       "      <td>Stroke</td>\n",
       "    </tr>\n",
       "    <tr>\n",
       "      <th>345</th>\n",
       "      <td>Yes</td>\n",
       "      <td>No</td>\n",
       "      <td>Yes</td>\n",
       "      <td>No</td>\n",
       "      <td>85</td>\n",
       "      <td>Male</td>\n",
       "      <td>High</td>\n",
       "      <td>High</td>\n",
       "      <td>Positive</td>\n",
       "      <td>Stroke</td>\n",
       "    </tr>\n",
       "    <tr>\n",
       "      <th>346</th>\n",
       "      <td>Yes</td>\n",
       "      <td>No</td>\n",
       "      <td>Yes</td>\n",
       "      <td>No</td>\n",
       "      <td>85</td>\n",
       "      <td>Male</td>\n",
       "      <td>High</td>\n",
       "      <td>High</td>\n",
       "      <td>Positive</td>\n",
       "      <td>Stroke</td>\n",
       "    </tr>\n",
       "    <tr>\n",
       "      <th>347</th>\n",
       "      <td>Yes</td>\n",
       "      <td>No</td>\n",
       "      <td>Yes</td>\n",
       "      <td>No</td>\n",
       "      <td>90</td>\n",
       "      <td>Female</td>\n",
       "      <td>High</td>\n",
       "      <td>High</td>\n",
       "      <td>Positive</td>\n",
       "      <td>Stroke</td>\n",
       "    </tr>\n",
       "    <tr>\n",
       "      <th>348</th>\n",
       "      <td>Yes</td>\n",
       "      <td>No</td>\n",
       "      <td>Yes</td>\n",
       "      <td>No</td>\n",
       "      <td>90</td>\n",
       "      <td>Female</td>\n",
       "      <td>High</td>\n",
       "      <td>High</td>\n",
       "      <td>Positive</td>\n",
       "      <td>Stroke</td>\n",
       "    </tr>\n",
       "  </tbody>\n",
       "</table>\n",
       "<p>349 rows × 10 columns</p>\n",
       "</div>"
      ],
      "text/plain": [
       "    Fever Cough Fatigue Difficulty Breathing  Age  Gender Blood Pressure  \\\n",
       "0     Yes    No     Yes                  Yes   19  Female            Low   \n",
       "1      No   Yes     Yes                   No   25  Female         Normal   \n",
       "2      No   Yes     Yes                   No   25  Female         Normal   \n",
       "3     Yes   Yes      No                  Yes   25    Male         Normal   \n",
       "4     Yes   Yes      No                  Yes   25    Male         Normal   \n",
       "..    ...   ...     ...                  ...  ...     ...            ...   \n",
       "344   Yes    No     Yes                   No   80  Female           High   \n",
       "345   Yes    No     Yes                   No   85    Male           High   \n",
       "346   Yes    No     Yes                   No   85    Male           High   \n",
       "347   Yes    No     Yes                   No   90  Female           High   \n",
       "348   Yes    No     Yes                   No   90  Female           High   \n",
       "\n",
       "    Cholesterol Level Outcome Variable      Disease  \n",
       "0              Normal         Positive    Influenza  \n",
       "1              Normal         Negative  Common Cold  \n",
       "2              Normal         Negative       Eczema  \n",
       "3              Normal         Positive       Asthma  \n",
       "4              Normal         Positive       Asthma  \n",
       "..                ...              ...          ...  \n",
       "344              High         Positive       Stroke  \n",
       "345              High         Positive       Stroke  \n",
       "346              High         Positive       Stroke  \n",
       "347              High         Positive       Stroke  \n",
       "348              High         Positive       Stroke  \n",
       "\n",
       "[349 rows x 10 columns]"
      ]
     },
     "execution_count": 40,
     "metadata": {},
     "output_type": "execute_result"
    }
   ],
   "source": [
    "data"
   ]
  },
  {
   "cell_type": "code",
   "execution_count": 41,
   "id": "bf1859fd",
   "metadata": {},
   "outputs": [
    {
     "data": {
      "text/plain": [
       "Fever                   0\n",
       "Cough                   0\n",
       "Fatigue                 0\n",
       "Difficulty Breathing    0\n",
       "Age                     0\n",
       "Gender                  0\n",
       "Blood Pressure          0\n",
       "Cholesterol Level       0\n",
       "Outcome Variable        0\n",
       "Disease                 0\n",
       "dtype: int64"
      ]
     },
     "execution_count": 41,
     "metadata": {},
     "output_type": "execute_result"
    }
   ],
   "source": [
    "data.isnull().sum()"
   ]
  },
  {
   "cell_type": "code",
   "execution_count": 42,
   "id": "b271825c",
   "metadata": {},
   "outputs": [
    {
     "data": {
      "text/plain": [
       "Index(['Fever', 'Cough', 'Fatigue', 'Difficulty Breathing', 'Age', 'Gender',\n",
       "       'Blood Pressure', 'Cholesterol Level', 'Outcome Variable', 'Disease'],\n",
       "      dtype='object')"
      ]
     },
     "execution_count": 42,
     "metadata": {},
     "output_type": "execute_result"
    }
   ],
   "source": [
    "data.columns"
   ]
  },
  {
   "cell_type": "code",
   "execution_count": 43,
   "id": "0a8f4bca",
   "metadata": {},
   "outputs": [],
   "source": [
    "categorical_features = data.select_dtypes(include=['object']).columns\n",
    "numerical_features = data.select_dtypes(include=['int64', 'float64']).columns"
   ]
  },
  {
   "cell_type": "code",
   "execution_count": 44,
   "id": "70a0617b",
   "metadata": {},
   "outputs": [
    {
     "data": {
      "text/plain": [
       "Index(['Fever', 'Cough', 'Fatigue', 'Difficulty Breathing', 'Gender',\n",
       "       'Blood Pressure', 'Cholesterol Level', 'Outcome Variable', 'Disease'],\n",
       "      dtype='object')"
      ]
     },
     "execution_count": 44,
     "metadata": {},
     "output_type": "execute_result"
    }
   ],
   "source": [
    "categorical_features"
   ]
  },
  {
   "cell_type": "code",
   "execution_count": 45,
   "id": "c9b0d6b1",
   "metadata": {},
   "outputs": [
    {
     "data": {
      "text/plain": [
       "Index(['Age'], dtype='object')"
      ]
     },
     "execution_count": 45,
     "metadata": {},
     "output_type": "execute_result"
    }
   ],
   "source": [
    "numerical_features "
   ]
  },
  {
   "cell_type": "markdown",
   "id": "7ff0e54d",
   "metadata": {},
   "source": [
    "# Distribution of age in the dataset"
   ]
  },
  {
   "cell_type": "code",
   "execution_count": 46,
   "id": "9e932e16",
   "metadata": {},
   "outputs": [
    {
     "data": {
      "image/png": "[encoded data removed]",
      "text/plain": [
       "<Figure size 1000x600 with 1 Axes>"
      ]
     },
     "metadata": {},
     "output_type": "display_data"
    }
   ],
   "source": [
    "plt.figure(figsize=(10, 6))\n",
    "sns.histplot(data['Age'], bins=20, kde=True)\n",
    "plt.title('Distribution of Age')\n",
    "plt.xlabel('Age')\n",
    "plt.ylabel('Frequency')\n",
    "plt.show()"
   ]
  },
  {
   "cell_type": "code",
   "execution_count": 47,
   "id": "751df0e1",
   "metadata": {},
   "outputs": [],
   "source": [
    "X = data.drop(['Disease','Outcome Variable'], axis=1)\n",
    "y = data['Disease']"
   ]
  },
  {
   "cell_type": "markdown",
   "id": "b578557c",
   "metadata": {},
   "source": [
    "# Applying different models "
   ]
  },
  {
   "cell_type": "code",
   "execution_count": 48,
   "id": "3356d348",
   "metadata": {},
   "outputs": [
    {
     "name": "stdout",
     "output_type": "stream",
     "text": [
      "Accuracy: 0.12857142857142856\n"
     ]
    }
   ],
   "source": [
    "from sklearn.linear_model import LogisticRegression\n",
    "label_encoder = LabelEncoder()\n",
    "for column in X.select_dtypes(include=['object']).columns:\n",
    "    X[column] = label_encoder.fit_transform(X[column])\n",
    "\n",
    "X_train, X_test, y_train, y_test = train_test_split(X, y, test_size=0.2, random_state=42)\n",
    "\n",
    "model = LogisticRegression()\n",
    "model.fit(X_train, y_train)\n",
    "\n",
    "y_pred = model.predict(X_test)\n",
    "accuracy = accuracy_score(y_test, y_pred)\n",
    "print(\"Accuracy:\", accuracy)"
   ]
  },
  {
   "cell_type": "code",
   "execution_count": 49,
   "id": "231c5abf",
   "metadata": {},
   "outputs": [
    {
     "data": {
      "text/plain": [
       "228                  Ebola Virus\n",
       "78     Conjunctivitis (Pink Eye)\n",
       "90                  Pancreatitis\n",
       "16                  Pancreatitis\n",
       "66               Hyperthyroidism\n",
       "                 ...            \n",
       "188                     Diabetes\n",
       "71                     Psoriasis\n",
       "106            Anxiety Disorders\n",
       "270                Typhoid Fever\n",
       "102                 Liver Cancer\n",
       "Name: Disease, Length: 279, dtype: object"
      ]
     },
     "execution_count": 49,
     "metadata": {},
     "output_type": "execute_result"
    }
   ],
   "source": [
    "y_train"
   ]
  },
  {
   "cell_type": "code",
   "execution_count": 50,
   "id": "54fe99d1",
   "metadata": {},
   "outputs": [
    {
     "name": "stdout",
     "output_type": "stream",
     "text": [
      "Accuracy: 0.15714285714285714\n"
     ]
    }
   ],
   "source": [
    "from sklearn.svm import SVC\n",
    "from sklearn.preprocessing import StandardScaler\n",
    "scaler = StandardScaler()\n",
    "X_scaled = scaler.fit_transform(X)\n",
    "\n",
    "X_train, X_test, y_train, y_test = train_test_split(X_scaled, y, test_size=0.2, random_state=42)\n",
    "\n",
    "# Model training\n",
    "model = SVC()\n",
    "model.fit(X_train, y_train)\n",
    "\n",
    "# Model evaluation\n",
    "y_pred = model.predict(X_test)\n",
    "accuracy = accuracy_score(y_test, y_pred)\n",
    "print(\"Accuracy:\", accuracy)"
   ]
  },
  {
   "cell_type": "code",
   "execution_count": 51,
   "id": "e571c483",
   "metadata": {},
   "outputs": [
    {
     "name": "stdout",
     "output_type": "stream",
     "text": [
      "Accuracy: 0.24285714285714285\n"
     ]
    }
   ],
   "source": [
    "label_encoder = LabelEncoder()\n",
    "for column in X.select_dtypes(include=['object']).columns:\n",
    "    X[column] = label_encoder.fit_transform(X[column])\n",
    "\n",
    "X_train, X_test, y_train, y_test = train_test_split(X, y, test_size=0.2, random_state=42)\n",
    "\n",
    "model = DecisionTreeClassifier()\n",
    "model.fit(X_train, y_train)\n",
    "\n",
    "y_pred = model.predict(X_test)\n",
    "accuracy = accuracy_score(y_test, y_pred)\n",
    "print(\"Accuracy:\", accuracy)\n"
   ]
  },
  {
   "cell_type": "code",
   "execution_count": 52,
   "id": "0c5e4b9c",
   "metadata": {},
   "outputs": [
    {
     "name": "stdout",
     "output_type": "stream",
     "text": [
      "Accuracy: 0.3\n"
     ]
    }
   ],
   "source": [
    "label_encoder = LabelEncoder()\n",
    "for column in X.select_dtypes(include=['object']).columns:\n",
    "    X[column] = label_encoder.fit_transform(X[column])\n",
    "\n",
    "X_train, X_test, y_train, y_test = train_test_split(X, y, test_size=0.2, random_state=42)\n",
    "\n",
    "\n",
    "feature_names = X.columns.tolist()\n",
    "\n",
    "model = RandomForestClassifier()\n",
    "model.fit(X_train, y_train)\n",
    "\n",
    "y_pred = model.predict(X_test)\n",
    "accuracy = accuracy_score(y_test, y_pred)\n",
    "print(\"Accuracy:\", accuracy)"
   ]
  },
  {
   "cell_type": "code",
   "execution_count": 53,
   "id": "ef61fc85",
   "metadata": {},
   "outputs": [
    {
     "data": {
      "text/plain": [
       "157                                  Hypothyroidism\n",
       "341                                     Tonsillitis\n",
       "315    Chronic Obstructive Pulmonary Disease (COPD)\n",
       "234                                    Lyme Disease\n",
       "155                                        Diabetes\n",
       "                           ...                     \n",
       "94                               Ulcerative Colitis\n",
       "181                                          Asthma\n",
       "179                               Allergic Rhinitis\n",
       "199                              Sickle Cell Anemia\n",
       "326                                          Stroke\n",
       "Name: Disease, Length: 70, dtype: object"
      ]
     },
     "execution_count": 53,
     "metadata": {},
     "output_type": "execute_result"
    }
   ],
   "source": [
    "y_test"
   ]
  },
  {
   "cell_type": "code",
   "execution_count": 54,
   "id": "1f8c6eac",
   "metadata": {},
   "outputs": [
    {
     "data": {
      "text/plain": [
       "228                  Ebola Virus\n",
       "78     Conjunctivitis (Pink Eye)\n",
       "90                  Pancreatitis\n",
       "16                  Pancreatitis\n",
       "66               Hyperthyroidism\n",
       "                 ...            \n",
       "188                     Diabetes\n",
       "71                     Psoriasis\n",
       "106            Anxiety Disorders\n",
       "270                Typhoid Fever\n",
       "102                 Liver Cancer\n",
       "Name: Disease, Length: 279, dtype: object"
      ]
     },
     "execution_count": 54,
     "metadata": {},
     "output_type": "execute_result"
    }
   ],
   "source": [
    "y_train"
   ]
  },
  {
   "cell_type": "markdown",
   "id": "fd304063",
   "metadata": {},
   "source": [
    "# Comparison of Algorithm Accuracies"
   ]
  },
  {
   "cell_type": "code",
   "execution_count": 55,
   "id": "0659a017",
   "metadata": {},
   "outputs": [
    {
     "data": {
      "image/png": "[encoded data removed]",
      "text/plain": [
       "<Figure size 800x600 with 1 Axes>"
      ]
     },
     "metadata": {},
     "output_type": "display_data"
    }
   ],
   "source": [
    "algorithms = ['Decision Tree', 'SVC', 'RandomForestClassifier','LogisticRegression' ]\n",
    "accuracies = [0.22857142857142856, 0.15714285714285714, 0.2857142857142857, 0.12857142857142856]\n",
    "\n",
    "# Plotting the accuracies\n",
    "plt.figure(figsize=(8, 6))\n",
    "plt.bar(algorithms, accuracies, color=['skyblue'])\n",
    "plt.xlabel('Algorithms')\n",
    "plt.ylabel('Accuracy')\n",
    "plt.title('Comparison of Algorithm Accuracies')\n",
    "plt.ylim(0, 0.3)  # Setting y-axis limits\n",
    "plt.show()"
   ]
  },
  {
   "cell_type": "code",
   "execution_count": 56,
   "id": "f22e500d",
   "metadata": {},
   "outputs": [
    {
     "data": {
      "text/plain": [
       "[1, 1, 0, 0, 46, 'Male', 'High', 'Low']"
      ]
     },
     "execution_count": 56,
     "metadata": {},
     "output_type": "execute_result"
    }
   ],
   "source": [
    "symptoms"
   ]
  },
  {
   "cell_type": "code",
   "execution_count": 57,
   "id": "6b0ec1a6",
   "metadata": {},
   "outputs": [],
   "source": [
    "for i in range(len(symptoms)):\n",
    "    if symptoms[i]==\"Male\":\n",
    "        symptoms[i]=0;\n",
    "    elif symptoms[i]==\"Female\":\n",
    "        symptoms[i]=1;\n",
    "    elif symptoms[i]==\"High\":\n",
    "        symptoms[i]=2; \n",
    "    elif symptoms[i]==\"Low\":\n",
    "        symptoms[i]=0;\n",
    "    elif symptoms[i]==\"Normal\":\n",
    "        symptoms[i]=1;"
   ]
  },
  {
   "cell_type": "code",
   "execution_count": 58,
   "id": "a414008a",
   "metadata": {},
   "outputs": [],
   "source": [
    "arr=np.array(symptoms)\n",
    "arr=arr.reshape(1,-1)"
   ]
  },
  {
   "cell_type": "code",
   "execution_count": 59,
   "id": "0521de03",
   "metadata": {},
   "outputs": [
    {
     "data": {
      "text/plain": [
       "(1, 8)"
      ]
     },
     "execution_count": 59,
     "metadata": {},
     "output_type": "execute_result"
    }
   ],
   "source": [
    "arr.shape"
   ]
  },
  {
   "cell_type": "code",
   "execution_count": 60,
   "id": "32efe0bb",
   "metadata": {},
   "outputs": [],
   "source": [
    "perdicted_disease = model.predict(arr)[0]"
   ]
  },
  {
   "cell_type": "code",
   "execution_count": 61,
   "id": "3695a207",
   "metadata": {},
   "outputs": [
    {
     "data": {
      "text/plain": [
       "'Kidney Disease'"
      ]
     },
     "execution_count": 61,
     "metadata": {},
     "output_type": "execute_result"
    }
   ],
   "source": [
    "perdicted_disease"
   ]
  },
  {
   "cell_type": "markdown",
   "id": "685b25e7",
   "metadata": {},
   "source": [
    "# Which doctor to consult according to predicted disease?"
   ]
  },
  {
   "cell_type": "code",
   "execution_count": 62,
   "id": "a4332e55",
   "metadata": {},
   "outputs": [],
   "source": [
    "doctor_to_consult=''\n",
    "for specialty, conditions in medical_specialties.items():\n",
    "    # Check if predicted disease is in the current specialty's conditions list\n",
    "    if perdicted_disease in conditions:\n",
    "        doctor_to_consult = specialty\n",
    "        break\n"
   ]
  },
  {
   "cell_type": "code",
   "execution_count": 63,
   "id": "8fd35ccb",
   "metadata": {},
   "outputs": [
    {
     "data": {
      "text/plain": [
       "'Nephrology'"
      ]
     },
     "execution_count": 63,
     "metadata": {},
     "output_type": "execute_result"
    }
   ],
   "source": [
    "doctor_to_consult"
   ]
  },
  {
   "cell_type": "code",
   "execution_count": 64,
   "id": "060e3d1e",
   "metadata": {},
   "outputs": [],
   "source": [
    "df=pd.read_csv(\"dr mock dataset.csv\")"
   ]
  },
  {
   "cell_type": "code",
   "execution_count": 65,
   "id": "435b2f29",
   "metadata": {},
   "outputs": [],
   "source": [
    "df[\"Location\"] = df[\"Location\"].str.lower()"
   ]
  },
  {
   "cell_type": "code",
   "execution_count": 66,
   "id": "4156cb31",
   "metadata": {},
   "outputs": [
    {
     "data": {
      "text/html": [
       "<div>\n",
       "<style scoped>\n",
       "    .dataframe tbody tr th:only-of-type {\n",
       "        vertical-align: middle;\n",
       "    }\n",
       "\n",
       "    .dataframe tbody tr th {\n",
       "        vertical-align: top;\n",
       "    }\n",
       "\n",
       "    .dataframe thead th {\n",
       "        text-align: right;\n",
       "    }\n",
       "</style>\n",
       "<table border=\"1\" class=\"dataframe\">\n",
       "  <thead>\n",
       "    <tr style=\"text-align: right;\">\n",
       "      <th></th>\n",
       "      <th>doctor_name</th>\n",
       "      <th>Speciality</th>\n",
       "      <th>Availability</th>\n",
       "      <th>Ratings</th>\n",
       "      <th>Location</th>\n",
       "    </tr>\n",
       "  </thead>\n",
       "  <tbody>\n",
       "    <tr>\n",
       "      <th>0</th>\n",
       "      <td>Dr. Ananya Desai</td>\n",
       "      <td>Infectious Diseases</td>\n",
       "      <td>Monday, Friday</td>\n",
       "      <td>3.5</td>\n",
       "      <td>mumbai</td>\n",
       "    </tr>\n",
       "    <tr>\n",
       "      <th>1</th>\n",
       "      <td>Dr. Rohan Patel</td>\n",
       "      <td>Endocrinology</td>\n",
       "      <td>Monday, Wednesday</td>\n",
       "      <td>4.7</td>\n",
       "      <td>delhi</td>\n",
       "    </tr>\n",
       "    <tr>\n",
       "      <th>2</th>\n",
       "      <td>Dr. Sneha Singh</td>\n",
       "      <td>Allergy and Immunology</td>\n",
       "      <td>Tuesday, Thursday</td>\n",
       "      <td>4.9</td>\n",
       "      <td>bangalore</td>\n",
       "    </tr>\n",
       "    <tr>\n",
       "      <th>3</th>\n",
       "      <td>Dr. Akash Sharma</td>\n",
       "      <td>Neurology</td>\n",
       "      <td>Wednesday, Friday</td>\n",
       "      <td>4.5</td>\n",
       "      <td>kolkata</td>\n",
       "    </tr>\n",
       "    <tr>\n",
       "      <th>4</th>\n",
       "      <td>Dr. Pooja Reddy</td>\n",
       "      <td>Cardiology</td>\n",
       "      <td>Monday,Tuesday</td>\n",
       "      <td>4.7</td>\n",
       "      <td>chennai</td>\n",
       "    </tr>\n",
       "    <tr>\n",
       "      <th>...</th>\n",
       "      <td>...</td>\n",
       "      <td>...</td>\n",
       "      <td>...</td>\n",
       "      <td>...</td>\n",
       "      <td>...</td>\n",
       "    </tr>\n",
       "    <tr>\n",
       "      <th>494</th>\n",
       "      <td>Dr. Vivek Sachan</td>\n",
       "      <td>Oncologist</td>\n",
       "      <td>Thursday, Friday</td>\n",
       "      <td>4.5</td>\n",
       "      <td>jaipur</td>\n",
       "    </tr>\n",
       "    <tr>\n",
       "      <th>495</th>\n",
       "      <td>Dr. Aisha Khan</td>\n",
       "      <td>Oncologist</td>\n",
       "      <td>Wednesday, Friday</td>\n",
       "      <td>4.1</td>\n",
       "      <td>chandigarh</td>\n",
       "    </tr>\n",
       "    <tr>\n",
       "      <th>496</th>\n",
       "      <td>Dr. Rajiv Patel</td>\n",
       "      <td>Oncologist</td>\n",
       "      <td>Monday,Tuesday</td>\n",
       "      <td>4.7</td>\n",
       "      <td>gurgaon</td>\n",
       "    </tr>\n",
       "    <tr>\n",
       "      <th>497</th>\n",
       "      <td>Dr. Priyanka Banerjee</td>\n",
       "      <td>Gynecologist</td>\n",
       "      <td>Tuesday, Wednesday</td>\n",
       "      <td>4.2</td>\n",
       "      <td>noida</td>\n",
       "    </tr>\n",
       "    <tr>\n",
       "      <th>498</th>\n",
       "      <td>Dr. Siddharth Gupta</td>\n",
       "      <td>Psychotherapist</td>\n",
       "      <td>Wednesday, Thursday</td>\n",
       "      <td>4.9</td>\n",
       "      <td>kochi</td>\n",
       "    </tr>\n",
       "  </tbody>\n",
       "</table>\n",
       "<p>499 rows × 5 columns</p>\n",
       "</div>"
      ],
      "text/plain": [
       "               doctor_name              Speciality         Availability  \\\n",
       "0         Dr. Ananya Desai     Infectious Diseases       Monday, Friday   \n",
       "1          Dr. Rohan Patel           Endocrinology    Monday, Wednesday   \n",
       "2          Dr. Sneha Singh  Allergy and Immunology    Tuesday, Thursday   \n",
       "3         Dr. Akash Sharma               Neurology    Wednesday, Friday   \n",
       "4          Dr. Pooja Reddy              Cardiology       Monday,Tuesday   \n",
       "..                     ...                     ...                  ...   \n",
       "494       Dr. Vivek Sachan              Oncologist     Thursday, Friday   \n",
       "495         Dr. Aisha Khan              Oncologist    Wednesday, Friday   \n",
       "496        Dr. Rajiv Patel              Oncologist       Monday,Tuesday   \n",
       "497  Dr. Priyanka Banerjee            Gynecologist   Tuesday, Wednesday   \n",
       "498    Dr. Siddharth Gupta         Psychotherapist  Wednesday, Thursday   \n",
       "\n",
       "     Ratings    Location  \n",
       "0        3.5      mumbai  \n",
       "1        4.7       delhi  \n",
       "2        4.9   bangalore  \n",
       "3        4.5     kolkata  \n",
       "4        4.7     chennai  \n",
       "..       ...         ...  \n",
       "494      4.5      jaipur  \n",
       "495      4.1  chandigarh  \n",
       "496      4.7     gurgaon  \n",
       "497      4.2       noida  \n",
       "498      4.9       kochi  \n",
       "\n",
       "[499 rows x 5 columns]"
      ]
     },
     "execution_count": 66,
     "metadata": {},
     "output_type": "execute_result"
    }
   ],
   "source": [
    "df"
   ]
  },
  {
   "cell_type": "markdown",
   "id": "77ea482b",
   "metadata": {},
   "source": [
    "# Finding best rated doctor "
   ]
  },
  {
   "cell_type": "code",
   "execution_count": 67,
   "id": "6603bc7d",
   "metadata": {},
   "outputs": [
    {
     "name": "stdout",
     "output_type": "stream",
     "text": [
      "Doctors Available according to past Ratings : \n",
      "       doctor_name Speciality    Availability  Ratings Location\n",
      "Dr. Rahul Malhotra Nephrology Friday, Tuesday      3.6    surat\n"
     ]
    }
   ],
   "source": [
    "lst= np.array(df['Location'].unique())\n",
    "if patient_city.lower() in lst:\n",
    "    location = df[df['Location'] == patient_city.lower()]\n",
    "    All_Doctor_List = np.array(location['Speciality'].unique())\n",
    "    if((doctor_to_consult)in All_Doctor_List):\n",
    "        df_new = location[(location['Speciality']==doctor_to_consult)].sort_values(by='Ratings',ascending=False)\n",
    "        print(\"Doctors Available according to past Ratings : \")\n",
    "        df_string = df_new.to_string(index=False)\n",
    "        print(df_string)\n",
    "    else:\n",
    "        print(\"No Doctor is available in Your City But You can contact : \")\n",
    "        df_new=df[df['Speciality']==doctor_to_consult].sort_values(by=\"Ratings\")\n",
    "        df_string = df_new.to_string(index=False)\n",
    "        print(df_string)"
   ]
  },
  {
   "cell_type": "markdown",
   "id": "73fe88f3",
   "metadata": {},
   "source": [
    "# GUI for rcommending doctors"
   ]
  },
  {
   "cell_type": "code",
   "execution_count": null,
   "id": "97718f16",
   "metadata": {},
   "outputs": [],
   "source": [
    "import tkinter as tk\n",
    "from tkinter import scrolledtext\n",
    "import numpy as np\n",
    "import pandas as pd\n",
    "\n",
    "def display_dataframe_on_gui():\n",
    "    result_text.insert(tk.END, \"Patient Disease: \" + str(perdicted_disease) + \"\\n\\n\")\n",
    "    lst = np.array(df['Location'].unique())\n",
    "    if patient_city.lower() in lst:\n",
    "        location = df[df['Location'] == patient_city.lower()]\n",
    "        All_Doctor_List = np.array(location['Speciality'].unique())\n",
    "        if doctor_to_consult in All_Doctor_List:\n",
    "            df_new = location[location['Speciality'] == doctor_to_consult].sort_values(by='Ratings', ascending=False)\n",
    "            result_text.insert(tk.END, \"Doctors available according to past ratings:\\n\\n\")\n",
    "            result_text.insert(tk.END, df_new.to_string(index=False) + \"\\n\\n\")\n",
    "        else:\n",
    "            result_text.insert(tk.END, \"No doctor is available in your city. But you can contact:\\n\\n\")\n",
    "            df_new = df[df['Speciality'] == doctor_to_consult].sort_values(by=\"Ratings\")\n",
    "            result_text.insert(tk.END, df_new.to_string(index=False) + \"\\n\\n\")\n",
    "\n",
    "root = tk.Tk()\n",
    "root.title(\"Recommended Doctors\")\n",
    "\n",
    "screen_width = root.winfo_screenwidth()\n",
    "screen_height = root.winfo_screenheight()\n",
    "\n",
    "x_position = (screen_width - 600) // 2\n",
    "y_position = (screen_height - 400) // 2\n",
    "\n",
    "root.geometry(\"850x460+{}+{}\".format(x_position, y_position))\n",
    "\n",
    "result_text = scrolledtext.ScrolledText(root, width=80, height=20, wrap=tk.WORD, font=(\"Courier\", 10), bg=\"white\", fg=\"black\", borderwidth=2, relief=tk.SOLID)\n",
    "result_text.grid(row=0, column=0, padx=10, pady=10)\n",
    "\n",
    "display_dataframe_on_gui()\n",
    "\n",
    "root.mainloop()\n"
   ]
  },
  {
   "cell_type": "code",
   "execution_count": null,
   "id": "3fcf694d",
   "metadata": {},
   "outputs": [],
   "source": []
  },
  {
   "cell_type": "code",
   "execution_count": null,
   "id": "d52acc26",
   "metadata": {},
   "outputs": [],
   "source": []
  },
  {
   "cell_type": "code",
   "execution_count": null,
   "id": "640626a9",
   "metadata": {},
   "outputs": [],
   "source": []
  }
 ],
 "metadata": {
  "kernelspec": {
   "display_name": "Python 3 (ipykernel)",
   "language": "python",
   "name": "python3"
  },
  "language_info": {
   "codemirror_mode": {
    "name": "ipython",
    "version": 3
   },
   "file_extension": ".py",
   "mimetype": "text/x-python",
   "name": "python",
   "nbconvert_exporter": "python",
   "pygments_lexer": "ipython3",
   "version": "3.11.4"
  }
 },
 "nbformat": 4,
 "nbformat_minor": 5
}
